{
 "cells": [
  {
   "cell_type": "code",
   "execution_count": 6,
   "metadata": {},
   "outputs": [],
   "source": [
    "import pandas as pd\n",
    "student_data=pd.DataFrame({\n",
    "    'Name':['shaiksha','vivek','anil','kesava','sudhakar','abhisek'],\n",
    "    'Maths':[78,57,35,98,56,73],\n",
    "    'physcis':[67,98,23,45,87,99],\n",
    "    'chemistry'    :[89,67,47,34,66,98],\n",
    "    'biology':[99,56,73,34,67,23]       \n",
    "})\n",
    "student_data1=pd.DataFrame({\n",
    "    'Name':['shaiksha','vivek','anil','kesava','sudhakar','abhisek'],\n",
    "    'Maths':[78,57,35,98,56,73],\n",
    "    'physcis':[67,98,23,45,87,99],\n",
    "    'chemistry'    :[89,67,47,34,66,98],\n",
    "    'biology':[99,56,73,34,67,23]       \n",
    "})"
   ]
  },
  {
   "cell_type": "code",
   "execution_count": 7,
   "metadata": {},
   "outputs": [],
   "source": [
    "import pandas as pd\n",
    "with pd.ExcelWriter('C:\\\\Users\\\\LENOVO\\\\Desktop\\csv_xlsx.xlsx') as writer:\n",
    "    student_data.to_excel(writer,sheet_name=\"student1\")\n",
    "    student_data1.to_excel(writer,sheet_name=\"student11\")\n",
    "    "
   ]
  },
  {
   "cell_type": "code",
   "execution_count": null,
   "metadata": {},
   "outputs": [],
   "source": []
  }
 ],
 "metadata": {
  "kernelspec": {
   "display_name": "Python 3",
   "language": "python",
   "name": "python3"
  },
  "language_info": {
   "codemirror_mode": {
    "name": "ipython",
    "version": 3
   },
   "file_extension": ".py",
   "mimetype": "text/x-python",
   "name": "python",
   "nbconvert_exporter": "python",
   "pygments_lexer": "ipython3",
   "version": "3.8.5"
  }
 },
 "nbformat": 4,
 "nbformat_minor": 4
}
